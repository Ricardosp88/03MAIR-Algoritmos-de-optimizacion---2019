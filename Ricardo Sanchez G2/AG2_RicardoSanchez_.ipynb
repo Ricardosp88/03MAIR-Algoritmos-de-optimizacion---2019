{
  "nbformat": 4,
  "nbformat_minor": 0,
  "metadata": {
    "colab": {
      "name": "AG2 RicardoSanchez..ipynb",
      "version": "0.3.2",
      "provenance": [],
      "collapsed_sections": [],
      "include_colab_link": true
    },
    "kernelspec": {
      "name": "python3",
      "display_name": "Python 3"
    }
  },
  "cells": [
    {
      "cell_type": "markdown",
      "metadata": {
        "id": "view-in-github",
        "colab_type": "text"
      },
      "source": [
        "<a href=\"https://colab.research.google.com/github/Ricardosp88/03MAIR-Algoritmos-de-optimizacion---2019/blob/master/Ricardo%20Sanchez%20G2/AG2_RicardoSanchez_.ipynb\" target=\"_parent\"><img src=\"https://colab.research.google.com/assets/colab-badge.svg\" alt=\"Open In Colab\"/></a>"
      ]
    },
    {
      "metadata": {
        "id": "SZYFc3mbcFNT",
        "colab_type": "text"
      },
      "cell_type": "markdown",
      "source": [
        "AG- Actividad Guida 2\n",
        "\n",
        "Ricardo Sánchez\n",
        "\n",
        "https://github.com/Ricardosp88/03MAIR-Algoritmos-de-optimizacion---2019/tree/master/Ricardo%20Sanchez%20G2"
      ]
    },
    {
      "metadata": {
        "id": "7na3WM6Nc3Vz",
        "colab_type": "text"
      },
      "cell_type": "markdown",
      "source": [
        "Encontrar los dos puntos más cercanos"
      ]
    },
    {
      "metadata": {
        "id": "DNrKAUeLeXD2",
        "colab_type": "code",
        "colab": {}
      },
      "cell_type": "code",
      "source": [
        "import random\n",
        "import math\n",
        "from time import time\n",
        "\n",
        "def calcular_tiempo(f):\n",
        "   \n",
        "    def wrapper(*args, **kwargs):        \n",
        "        inicio = time()       \n",
        "        resultado = f(*args, **kwargs)       \n",
        "        tiempo = time() - inicio\n",
        "        print(\"\\nTiempo de ejecución para algoritmo: \"+str(tiempo))\n",
        "        return resultado\n",
        "    return wrapper"
      ],
      "execution_count": 0,
      "outputs": []
    },
    {
      "metadata": {
        "id": "sqc0jOBzbPfv",
        "colab_type": "code",
        "colab": {}
      },
      "cell_type": "code",
      "source": [
        "def Distancia(A,B):\n",
        "  \n",
        "  if type(A) is int or type(A) is float:\n",
        "    return abs(A-B)\n",
        "  else: \n",
        "     return math.sqrt(  sum( [(A[i]-B[i])**2 for i in range(len(A))] )  )\n",
        "     \n",
        "\n"
      ],
      "execution_count": 0,
      "outputs": []
    },
    {
      "metadata": {
        "id": "5iPvQJLgcE9o",
        "colab_type": "code",
        "colab": {}
      },
      "cell_type": "code",
      "source": [
        "N=100\n",
        "\n",
        "Lista2D=[(random.randrange(1,N*10),random.randrange(1,N*10))for _ in range(N)]\n"
      ],
      "execution_count": 0,
      "outputs": []
    },
    {
      "metadata": {
        "id": "8vhNYpqB0vM9",
        "colab_type": "text"
      },
      "cell_type": "markdown",
      "source": [
        "Método por fuerza bruta"
      ]
    },
    {
      "metadata": {
        "id": "EjmNX0KN0zrr",
        "colab_type": "code",
        "colab": {}
      },
      "cell_type": "code",
      "source": [
        "def DistanciaMinFB(lista):\n",
        "  \n",
        "  mejor_distancia=10000e10\n",
        "  A,B=(),()\n",
        "  longlist=len(lista)\n",
        "  for i in range(longlist):\n",
        "    \n",
        "    for j in range(i+1,longlist):\n",
        "      \n",
        "      dist=Distancia (lista[i],lista[j])\n",
        "      \n",
        "      if dist<mejor_distancia:\n",
        "        \n",
        "        A,B=lista[i],lista [j]\n",
        "        mejor_distancia=dist\n",
        "        \n",
        "  return[A,B,mejor_distancia]\n",
        "      \n",
        "      \n",
        "#DistanciaMinFB(Lista2D)\n",
        "\n",
        "@calcular_tiempo  \n",
        "def CTFB(L):\n",
        "  return DistanciaMinFB(L)\n",
        "    "
      ],
      "execution_count": 0,
      "outputs": []
    },
    {
      "metadata": {
        "id": "0wpSbOmt_lXp",
        "colab_type": "text"
      },
      "cell_type": "markdown",
      "source": [
        "Método divide y venceras"
      ]
    },
    {
      "metadata": {
        "id": "5Xmea3w0_ot-",
        "colab_type": "code",
        "colab": {}
      },
      "cell_type": "code",
      "source": [
        "#@calcular_tiempo\n",
        "def DistanciaMinDV(lista):\n",
        "  #Si lista pequeña:\n",
        "  if len(lista)<10:\n",
        "    return DistanciaMinFB(lista)\n",
        "  #Si la lista es grande:\n",
        "  \n",
        "  #pivote= sum([lista[i][0]for i in range(len(lista))])/len (lista)\n",
        "  lista_ord=sorted(lista,key=lambda x:x[0])        \n",
        "  lista_izq=lista_ord[:len(lista)//2]\n",
        "  lista_der=lista_ord[len(lista)//2:]\n",
        "  \n",
        "  PuntosListaIzq=DistanciaMinDV(lista_izq)\n",
        "  PuntosListaDer=DistanciaMinDV(lista_der)\n",
        "  \n",
        "  distanciaminina=min(PuntosListaIzq[2],PuntosListaDer[2])\n",
        "  \n",
        "  PuntosListaCent=DistanciaMinFB(lista_ord[len(lista)//2-int(distanciaminina)*2:len(lista)//2+int(distanciaminina)*2])\n",
        "  \n",
        "  for i in  (PuntosListaIzq,PuntosListaDer,PuntosListaCent):\n",
        "    if i[2]<=distanciaminina:\n",
        "      distanciaminia=i[2]\n",
        "      punto1,punto2=i[0],i[1]\n",
        "       \n",
        "  return (punto1,punto2,distanciaminia)#DistanciaMinFB(PuntosListaIzq + PuntosListaDer)\n",
        "  \n",
        "  #print(lista_izq)\n",
        "  #print(lista_der)\n",
        "   \n",
        "@calcular_tiempo \n",
        "def CTDV(L):\n",
        "  return DistanciaMinDV(L)\n",
        "\n"
      ],
      "execution_count": 0,
      "outputs": []
    },
    {
      "metadata": {
        "id": "Z5EYGOvjOEZr",
        "colab_type": "code",
        "colab": {
          "base_uri": "https://localhost:8080/",
          "height": 118
        },
        "outputId": "079b37f4-e4d6-4611-8e84-68c72383a37b"
      },
      "cell_type": "code",
      "source": [
        "N=2000\n",
        "\n",
        "Lista2D=[(random.randrange(1,N*10),random.randrange(1,N*10))for _ in range(N)]\n",
        "\n",
        "print(CTFB(Lista2D))\n",
        "print(CTDV(Lista2D))"
      ],
      "execution_count": 88,
      "outputs": [
        {
          "output_type": "stream",
          "text": [
            "\n",
            "Tiempo de ejecución para algoritmo: 4.276152849197388\n",
            "[(13029, 4100), (13021, 4098), 8.246211251235321]\n",
            "\n",
            "Tiempo de ejecución para algoritmo: 0.4007134437561035\n",
            "((13021, 4098), (13029, 4100), 8.246211251235321)\n"
          ],
          "name": "stdout"
        }
      ]
    },
    {
      "metadata": {
        "id": "3q6eZJdLQe_M",
        "colab_type": "text"
      },
      "cell_type": "markdown",
      "source": [
        "Podemos ver que al comparar tiempos el método de divide y venceras obtiene el resultado en un tiempo muy inferior"
      ]
    },
    {
      "metadata": {
        "id": "JcG-DRE5Q05x",
        "colab_type": "text"
      },
      "cell_type": "markdown",
      "source": [
        "Problema del Viaje por el rio\n",
        "\n",
        "Metodo de progración dinamica"
      ]
    },
    {
      "metadata": {
        "id": "2nmFFnU_RFae",
        "colab_type": "code",
        "colab": {
          "base_uri": "https://localhost:8080/",
          "height": 121
        },
        "outputId": "25f5e7ad-5bb1-429f-ed6d-7f035ff5539b"
      },
      "cell_type": "code",
      "source": [
        "Tarifas = [\n",
        "[0,5,4,3,999,999,999],\n",
        "[999,0,999,2,3,999,11],\n",
        "[999,999, 0,1,999,4,10],\n",
        "[999,999,999, 0,5,6,9],\n",
        "[999,999, 999,999,0,999,4],\n",
        "[999,999, 999,999,999,0,3],\n",
        "[999,999,999,999,999,999,0]\n",
        "]\n",
        "\n",
        "def Precios(Tarifas):\n",
        "  N=len(Tarifas[0])\n",
        "  \n",
        "  Precios=[[9999]*N for i in[9999]*N ]\n",
        "  Ruta=[[\"\"]*N for i in [9999]*N]\n",
        "  \n",
        "\n",
        "  \n",
        "  for i in range(N-1):\n",
        "    for j in range(i+1,N):\n",
        "      MIN=Tarifas[i][j]\n",
        "      Ruta[i][j]=i\n",
        "      \n",
        "      for k in range(i,j):\n",
        "        if Precios[i][k]+Tarifas[k][j]<MIN:\n",
        "          MIN=min(MIN,Precios[i][k]+Tarifas[k][j])\n",
        "          Ruta[i][j]=k\n",
        "      Precios[i][j]=MIN\n",
        "  return Precios,Ruta\n",
        "\n",
        "def calcular_ruta(Ruta, desde, hasta):\n",
        "  if desde == hasta:\n",
        "    \n",
        "    return desde\n",
        "  \n",
        "  else:\n",
        "    \n",
        "    return str(calcular_ruta(Ruta, desde, Ruta[desde][hasta])) +  ',' + str(Ruta[desde][hasta]) \n",
        "\n",
        "Precios,Ruta=Precios(Tarifas)\n",
        "  \n",
        "print(Precios)\n",
        "print(Ruta)\n",
        "  \n",
        "print(\"\\nLa ruta es:\")  \n",
        "\n",
        "calcular_ruta(Ruta,0,6)"
      ],
      "execution_count": 106,
      "outputs": [
        {
          "output_type": "stream",
          "text": [
            "[[9999, 5, 4, 3, 8, 8, 11], [9999, 9999, 999, 2, 3, 8, 7], [9999, 9999, 9999, 1, 6, 4, 7], [9999, 9999, 9999, 9999, 5, 6, 9], [9999, 9999, 9999, 9999, 9999, 999, 4], [9999, 9999, 9999, 9999, 9999, 9999, 3], [9999, 9999, 9999, 9999, 9999, 9999, 9999]]\n",
            "[['', 0, 0, 0, 1, 2, 5], ['', '', 1, 1, 1, 3, 4], ['', '', '', 2, 3, 2, 5], ['', '', '', '', 3, 3, 3], ['', '', '', '', '', 4, 4], ['', '', '', '', '', '', 5], ['', '', '', '', '', '', '']]\n",
            "\n",
            "La ruta es:\n"
          ],
          "name": "stdout"
        },
        {
          "output_type": "execute_result",
          "data": {
            "text/plain": [
              "'0,0,2,5'"
            ]
          },
          "metadata": {
            "tags": []
          },
          "execution_count": 106
        }
      ]
    }
  ]
}