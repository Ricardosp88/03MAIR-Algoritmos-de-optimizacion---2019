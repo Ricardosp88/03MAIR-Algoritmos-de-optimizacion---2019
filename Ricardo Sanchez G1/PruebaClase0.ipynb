{
  "nbformat": 4,
  "nbformat_minor": 0,
  "metadata": {
    "colab": {
      "name": "Untitled0.ipynb",
      "version": "0.3.2",
      "provenance": [],
      "include_colab_link": true
    },
    "kernelspec": {
      "name": "python3",
      "display_name": "Python 3"
    }
  },
  "cells": [
    {
      "cell_type": "markdown",
      "metadata": {
        "id": "view-in-github",
        "colab_type": "text"
      },
      "source": [
        "<a href=\"https://colab.research.google.com/github/Ricardosp88/03MAIR-Algoritmos-de-optimizacion---2019/blob/master/Ricardo%20Sanchez%20G1/PruebaClase0.ipynb\" target=\"_parent\"><img src=\"https://colab.research.google.com/assets/colab-badge.svg\" alt=\"Open In Colab\"/></a>"
      ]
    },
    {
      "metadata": {
        "id": "O0CEjJ36o5Ou",
        "colab_type": "code",
        "outputId": "cbde22dc-5996-4208-85d1-1ffd4cce9ae4",
        "colab": {
          "base_uri": "https://localhost:8080/",
          "height": 151
        }
      },
      "cell_type": "code",
      "source": [
        "!pip install sorting\n"
      ],
      "execution_count": 0,
      "outputs": [
        {
          "output_type": "stream",
          "text": [
            "Collecting sorting\n",
            "  Downloading https://files.pythonhosted.org/packages/5f/c8/2d2318aa6697f8771371bdfb27c12bff5437f5b2f323a11563f2a8bf4fdf/sorting-1.0.2.tar.gz\n",
            "Building wheels for collected packages: sorting\n",
            "  Building wheel for sorting (setup.py) ... \u001b[?25ldone\n",
            "\u001b[?25h  Stored in directory: /root/.cache/pip/wheels/1d/69/7d/afb45b857f9cd6d7927312839c0928f20284f476cb4265474e\n",
            "Successfully built sorting\n",
            "Installing collected packages: sorting\n",
            "Successfully installed sorting-1.0.2\n"
          ],
          "name": "stdout"
        }
      ]
    },
    {
      "metadata": {
        "id": "dFlgqiP1pHS4",
        "colab_type": "code",
        "colab": {}
      },
      "cell_type": "code",
      "source": [
        "import sorting"
      ],
      "execution_count": 0,
      "outputs": []
    },
    {
      "metadata": {
        "id": "TehATmLWpKDw",
        "colab_type": "code",
        "outputId": "5ba93b70-818a-418e-9684-54090800ee6f",
        "colab": {
          "base_uri": "https://localhost:8080/",
          "height": 34
        }
      },
      "cell_type": "code",
      "source": [
        "lista=[45,74864,12,748,5,789,56,74,45,2,98]\n",
        "lista_ordenada=sorting.bubble(lista)\n",
        "print(lista_ordenada)"
      ],
      "execution_count": 0,
      "outputs": [
        {
          "output_type": "stream",
          "text": [
            "[2, 5, 12, 45, 45, 56, 74, 98, 748, 789, 74864]\n"
          ],
          "name": "stdout"
        }
      ]
    }
  ]
}