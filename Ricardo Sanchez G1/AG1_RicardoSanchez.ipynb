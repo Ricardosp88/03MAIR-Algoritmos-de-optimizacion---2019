{
  "nbformat": 4,
  "nbformat_minor": 0,
  "metadata": {
    "colab": {
      "name": "AG1 RicardoSanchez.ipynb",
      "version": "0.3.2",
      "provenance": [],
      "collapsed_sections": [],
      "include_colab_link": true
    },
    "kernelspec": {
      "name": "python3",
      "display_name": "Python 3"
    }
  },
  "cells": [
    {
      "cell_type": "markdown",
      "metadata": {
        "id": "view-in-github",
        "colab_type": "text"
      },
      "source": [
        "<a href=\"https://colab.research.google.com/github/Ricardosp88/03MAIR-Algoritmos-de-optimizacion---2019/blob/master/Ricardo%20Sanchez%20G1/AG1_RicardoSanchez.ipynb\" target=\"_parent\"><img src=\"https://colab.research.google.com/assets/colab-badge.svg\" alt=\"Open In Colab\"/></a>"
      ]
    },
    {
      "metadata": {
        "id": "_dxKkb_nUvwU",
        "colab_type": "text"
      },
      "cell_type": "markdown",
      "source": [
        "AG- Actividad Guida 1\n",
        "\n",
        "Ricardo Sánchez\n",
        "\n",
        "https://github.com/Ricardosp88/03MAIR-Algoritmos-de-optimizacion---2019/tree/master/Ricardo%20Sanchez%20G1"
      ]
    },
    {
      "metadata": {
        "id": "sr60C53xbR2Q",
        "colab_type": "code",
        "colab": {}
      },
      "cell_type": "code",
      "source": [
        "#Función para calcular el tiempo de ejecución\n",
        "from time import time\n",
        "\n",
        "def calcular_tiempo(f):\n",
        "   \n",
        "    def wrapper(*args, **kwargs):        \n",
        "        inicio = time()       \n",
        "        resultado = f(*args, **kwargs)       \n",
        "        tiempo = time() - inicio\n",
        "        print(\"\\nTiempo de ejecución para algoritmo: \"+str(tiempo))\n",
        "        return resultado\n",
        "    return wrapper"
      ],
      "execution_count": 0,
      "outputs": []
    },
    {
      "metadata": {
        "id": "TFr8jKZ_dLLD",
        "colab_type": "text"
      },
      "cell_type": "markdown",
      "source": [
        "Funcion de ordenación de listas"
      ]
    },
    {
      "metadata": {
        "id": "gqw1QvFxT6dB",
        "colab_type": "code",
        "colab": {
          "base_uri": "https://localhost:8080/",
          "height": 70
        },
        "outputId": "c2ef1217-4fa3-4d6d-8344-2a353c133908"
      },
      "cell_type": "code",
      "source": [
        "#Quick sort\n",
        "\n",
        "A = [9187, 244, 4054, 9222, 8373, 4993, 5265, 5470, 4519, 7182, 2035, 3506, 4337, 7580, 2554, 2824, 8357, 4447, 7379]\n",
        "\n",
        "def quick_sort(A):\n",
        "  \n",
        "  if len(A)==1:\n",
        "    return A\n",
        "  \n",
        "  if len(A)==2:\n",
        "    return[min(A),max(A)]\n",
        "  \n",
        "  #pivote=(A[0]+A[1]+A[2])/3\n",
        "  \n",
        "  B=[]\n",
        "  C=[]\n",
        "  suma =0\n",
        "  for i in A:\n",
        "    suma+=i\n",
        "  pivote=suma/len(A)\n",
        "  for i in A:\n",
        "    if i<=pivote:\n",
        "      B.append(i)\n",
        "    else:\n",
        "      C.append(i)\n",
        "      \n",
        "  return(quick_sort(B)+quick_sort(C))\n",
        " \n",
        "@calcular_tiempo\n",
        "def QS(A):\n",
        "  return quick_sort(A)\n",
        "print(QS(A))"
      ],
      "execution_count": 33,
      "outputs": [
        {
          "output_type": "stream",
          "text": [
            "Tiempo de ejecución para algoritmo: 3.886222839355469e-05\n",
            "[244, 2035, 2554, 2824, 3506, 4054, 4337, 4447, 4519, 4993, 5265, 5470, 7182, 7379, 7580, 8357, 8373, 9187, 9222]\n"
          ],
          "name": "stdout"
        }
      ]
    },
    {
      "metadata": {
        "id": "Z83rU2SydfFF",
        "colab_type": "text"
      },
      "cell_type": "markdown",
      "source": [
        "Algoritmo Voraz\n",
        "\n",
        "Problema de Cambio de monedas:"
      ]
    },
    {
      "metadata": {
        "id": "YdPsfCXXfe6e",
        "colab_type": "code",
        "colab": {
          "base_uri": "https://localhost:8080/",
          "height": 50
        },
        "outputId": "1ebd181f-19a0-48cd-ecee-82fea660004d"
      },
      "cell_type": "code",
      "source": [
        "Sistema=[25,10,5,1]\n",
        "\n",
        "@calcular_tiempo\n",
        "def Cambio_Monedas (C,Sistema):\n",
        "  Solucion=[0 for i in range(len (Sistema))]\n",
        " \n",
        "  Acumulado=0\n",
        "  \n",
        "  for i in range(len(Sistema)):\n",
        "    NMonedas=int((C-Acumulado)/Sistema[i])\n",
        "    Acumulado+=NMonedas*Sistema[i]\n",
        "    Solucion [i]=NMonedas\n",
        "  return Solucion\n",
        "  \n",
        "Cambio_Monedas(67,Sistema)\n",
        "  "
      ],
      "execution_count": 54,
      "outputs": [
        {
          "output_type": "stream",
          "text": [
            "Tiempo de ejecución para algoritmo: 8.821487426757812e-06\n"
          ],
          "name": "stdout"
        },
        {
          "output_type": "execute_result",
          "data": {
            "text/plain": [
              "[2, 1, 1, 2]"
            ]
          },
          "metadata": {
            "tags": []
          },
          "execution_count": 54
        }
      ]
    },
    {
      "metadata": {
        "id": "k6yzYggPiWQF",
        "colab_type": "text"
      },
      "cell_type": "markdown",
      "source": [
        "Algoritmo de la Vuelta Atras,\n",
        "\n",
        "Problema de las 4 Reinas"
      ]
    },
    {
      "metadata": {
        "id": "kukccTH1il5v",
        "colab_type": "code",
        "colab": {
          "base_uri": "https://localhost:8080/",
          "height": 319
        },
        "outputId": "d11f5bae-c800-4b08-a212-262a3427c543"
      },
      "cell_type": "code",
      "source": [
        "N=4\n",
        "\n",
        "Solucion0=[0 for i in range(N)]\n",
        "\n",
        "Etapa=0\n",
        "\n",
        "def es_prometedora(Solucion,Etapa):\n",
        "  #print(Solucion)\n",
        "  for i in range (Etapa+1):\n",
        "    if Solucion.count(Solucion[i])>1:return False\n",
        "    for j in range(i+1,Etapa+1):\n",
        "      if abs(i-j)== abs(Solucion[i]-Solucion[j]): return False\n",
        "  return True\n",
        "\n",
        "def Dibuja(S):\n",
        "  n = len(S)\n",
        "  for x in range(n):\n",
        "    print(\"\")\n",
        "    for i in range(n):\n",
        "      if S[i] == x+1:\n",
        "        print(\" X \" , end=\"\")\n",
        "      else:\n",
        "        print(\" - \", end=\"\")\n",
        "          \n",
        "def Reinas (N,Solucion=Solucion0,Etapa=0):\n",
        "  for i in range(1,N+1):\n",
        "    Solucion[Etapa]=i\n",
        "    EsPrometedora=es_prometedora(Solucion,Etapa)\n",
        "    \n",
        "    if EsPrometedora and Etapa==N-1:\n",
        "      print (\"\\n\\nla solución es:\")\n",
        "      print (Solucion)\n",
        "      Dibuja(Solucion)\n",
        "    elif EsPrometedora:\n",
        "      Reinas(N,Solucion,Etapa+1)\n",
        "    else:None\n",
        "    Solucion[Etapa]=0\n",
        "\n",
        "@calcular_tiempo   \n",
        "def TR(N):    \n",
        "  return Reinas(N)\n",
        "\n",
        "TR(N)"
      ],
      "execution_count": 105,
      "outputs": [
        {
          "output_type": "stream",
          "text": [
            "\n",
            "\n",
            "la solución es:\n",
            "[2, 4, 1, 3]\n",
            "\n",
            " -  -  X  - \n",
            " X  -  -  - \n",
            " -  -  -  X \n",
            " -  X  -  - \n",
            "\n",
            "la solución es:\n",
            "[3, 1, 4, 2]\n",
            "\n",
            " -  X  -  - \n",
            " -  -  -  X \n",
            " X  -  -  - \n",
            " -  -  X  - \n",
            "Tiempo de ejecución para algoritmo: 0.007982015609741211\n"
          ],
          "name": "stdout"
        }
      ]
    }
  ]
}