{
  "nbformat": 4,
  "nbformat_minor": 0,
  "metadata": {
    "colab": {
      "name": "Copia de Seminario Ricardo Sánchez - Algoritmos.ipynb",
      "version": "0.3.2",
      "provenance": [],
      "collapsed_sections": [],
      "include_colab_link": true
    },
    "kernelspec": {
      "name": "python3",
      "display_name": "Python 3"
    }
  },
  "cells": [
    {
      "cell_type": "markdown",
      "metadata": {
        "id": "view-in-github",
        "colab_type": "text"
      },
      "source": [
        "<a href=\"https://colab.research.google.com/github/Ricardosp88/03MAIR-Algoritmos-de-optimizacion---2019/blob/master/Seminario/Ricardo_S%C3%A1nchez_Algoritmos.ipynb\" target=\"_parent\"><img src=\"https://colab.research.google.com/assets/colab-badge.svg\" alt=\"Open In Colab\"/></a>"
      ]
    },
    {
      "metadata": {
        "id": "hVbXYX-RfPWh",
        "colab_type": "text"
      },
      "cell_type": "markdown",
      "source": [
        "# Algoritmos de optimización - Seminario<br>\n",
        "Nombre y Apellidos:   Ricardo Sánchez Pastor <br>\n",
        "Url: https://github.com/Ricardosp88/03MAIR-Algoritmos-de-optimizacion---2019/tree/master/Seminario<br>\n",
        "Problema:\n",
        ">3. Combinar cifras y operaciones\n",
        "\n",
        "Descripción del problema:\n",
        "\n",
        "El problema consiste en analizar el siguiente problema y diseñar un algoritmo que lo resuelva.\n",
        "\n",
        "• Disponemos de las 9 cifras del 1 al 9 (excluimos el cero) y de los 4 signos básicos de las\n",
        "operaciones fundamentales: suma(+), resta(-), multiplicación(*) y división(/)\n",
        "\n",
        "• Debemos combinarlos alternativamente sin repetir ninguno de ellos para obtener una\n",
        "cantidad dada. Un ejemplo sería para obtener el 2:\n",
        "\n",
        "• Debe analizarse el problema para encontrar todos los valores enteros posibles planteando las\n",
        "siguientes cuestiones:\n",
        "- ¿Qué valor máximo y mínimo a priori se pueden obtener según las condiciones?\n",
        "\n",
        "Se puede intuir que el número máximo era 9*8/1+7-2=77\n",
        "y el número minimo seria 1-8*9+2=69\n",
        "\n",
        "- ¿Es posible encontrar todos los valores enteros posibles entre dicho mínimo y máximo ?\n",
        "   No, hay algun numero que no es alcanzable\n",
        "\n",
        "• Nota: Es posible usar la función de python “eval” para evaluar una expresión\n",
        "\n",
        "\n",
        "(*) La respuesta es obligatoria\n",
        "\n",
        "\n",
        "\n",
        "\n",
        "\n",
        "                                        "
      ]
    },
    {
      "metadata": {
        "id": "3_-exlrTgLd-",
        "colab_type": "text"
      },
      "cell_type": "markdown",
      "source": [
        "(*)¿Cuantas posibilidades hay sin tener en cuenta las restricciones?<br>\n",
        "\n",
        "\n",
        "\n",
        "¿Cuantas posibilidades hay teniendo en cuenta todas las restricciones.\n",
        "\n",
        "\n"
      ]
    },
    {
      "metadata": {
        "id": "WfCUqJyKhPcw",
        "colab_type": "text"
      },
      "cell_type": "markdown",
      "source": [
        "Respuesta"
      ]
    },
    {
      "metadata": {
        "id": "JeZyUi4LSz8I",
        "colab_type": "text"
      },
      "cell_type": "markdown",
      "source": [
        "9 posibilidades la primera opción ( 1 número del 1 al 9)\n",
        "\n",
        "4 posibilidades en la segunda opción ( 1 operación entre 4)\n",
        "\n",
        "8 posibilidades la primera opción ( 1 número del 1 al 8)\n",
        "\n",
        "3 posibilidades en la segunda opción ( 1 operación entre 3)\n",
        "\n",
        "7 posibilidades la primera opción ( 1 número del 1 al 7)\n",
        "\n",
        "2 posibilidades en la segunda opción ( 1 operación entre 2)\n",
        "\n",
        "6 posibilidades la primera opción ( 1 número del 1 al 6)\n",
        "\n",
        "1 posibilidades en la segunda opción ( 1 operación entre 1)\n",
        "\n",
        "5 posibilidades la primera opción ( 1 número del 1 al 5)\n",
        "\n",
        "es decir hay 9x4x8x3x7x2x6x5= 9!=362880 posibilidades\n",
        "\n"
      ]
    },
    {
      "metadata": {
        "id": "iq6Fe32MgpDX",
        "colab_type": "code",
        "colab": {}
      },
      "cell_type": "code",
      "source": [
        ""
      ],
      "execution_count": 0,
      "outputs": []
    },
    {
      "metadata": {
        "id": "dzynfVJahHoY",
        "colab_type": "text"
      },
      "cell_type": "markdown",
      "source": [
        "Modelo para el espacio de soluciones<br>\n",
        "(*) ¿Cual es la estructura de datos que mejor se adapta al problema? Argumentalo.(Es posible que hayas elegido una al principio y veas la necesidad de cambiar, arguentalo)\n"
      ]
    },
    {
      "metadata": {
        "id": "xFIJrOwKi2Ti",
        "colab_type": "text"
      },
      "cell_type": "markdown",
      "source": [
        "Respuesta"
      ]
    },
    {
      "metadata": {
        "id": "dWTC0tN0UJgW",
        "colab_type": "text"
      },
      "cell_type": "markdown",
      "source": [
        "La estructura de datos elegidas ha sido una tupla siendo cada elemento un signo y/o un numero en función de la posición, ejemplo:\n",
        "\n",
        "(1  ,  \"+\"   ,  2 ,  \"-\"  , 3  ,  \"*\"  ,4 ,  \"/\"  , 5)\n"
      ]
    },
    {
      "metadata": {
        "id": "38c-7-ejhJmA",
        "colab_type": "code",
        "colab": {}
      },
      "cell_type": "code",
      "source": [
        ""
      ],
      "execution_count": 0,
      "outputs": []
    },
    {
      "metadata": {
        "id": "7Z9U2W7bi-XS",
        "colab_type": "text"
      },
      "cell_type": "markdown",
      "source": [
        "Según el modelo para el espacio de soluciones<br>\n",
        "(*)¿Cual es la función objetivo?\n",
        "\n",
        "(*)¿Es un problema de maximización o minimización?"
      ]
    },
    {
      "metadata": {
        "id": "hBalWLM7j1_d",
        "colab_type": "text"
      },
      "cell_type": "markdown",
      "source": [
        "Respuesta"
      ]
    },
    {
      "metadata": {
        "id": "D-VCWAlEUyvW",
        "colab_type": "text"
      },
      "cell_type": "markdown",
      "source": [
        "la función objetivo es:\n",
        "\n",
        "resultado(solución_propuesta)-resultado objetivo=0\n",
        "\n",
        "No es un problema ni de maximación y minimación. simplemente vale con encontrar una solucón"
      ]
    },
    {
      "metadata": {
        "id": "pDA-rg3Gj5Lz",
        "colab_type": "code",
        "colab": {}
      },
      "cell_type": "code",
      "source": [
        ""
      ],
      "execution_count": 0,
      "outputs": []
    },
    {
      "metadata": {
        "id": "rlnTYgY1j6I2",
        "colab_type": "text"
      },
      "cell_type": "markdown",
      "source": [
        "Diseña un algoritmo para resolver el problema por fuerza bruta"
      ]
    },
    {
      "metadata": {
        "id": "70rDgxYXkC8r",
        "colab_type": "text"
      },
      "cell_type": "markdown",
      "source": [
        "Respuesta\n",
        "\n",
        "debido a la cantidad de soluciones hace un algoritmo por fuerza bruta no es abordable ya que tendría una complejidad de n^9 ( 9 bucles for uno dentro de otro)\n",
        "\n",
        "en pseudo código sería:\n",
        "\n",
        "for i in (1 al 9)\n",
        "\n",
        "  for operacion in ( lista de operaciones)\n",
        "  \n",
        "    for j in (1 al 9)\n",
        "      if j  diferente a i:\n",
        "        for operación2 in ( lista de operaciones)\n",
        "          if operacion2 diferente operación:\n",
        "            for k in lista de 1 al 9:\n",
        "               if k diferente a i y diferente a k \n",
        "                  for operacion3 in lista de operaciones ( lista de operaciones)\n",
        "                     for L in (1 al 9)\n",
        "                        if L diferente a i j y a k:\n",
        "                           for operacion 4 in ( lista de operaciones)\n",
        "                              if operacion 4 diferente a  operacion operacion2 operacio3 operacion4\n",
        "                                 for m in (1 al 9)\n",
        "                                    if m diferenta a i j k L\n",
        "                                       evaluar (i, operacion, j , operacion2, k, operacion3 L, operacion4, m)\n",
        "                                       Evaluacion =valorabsoluto( valor objetivo - evaluacion)\n",
        "                                       if evaluacion< a mejor evaluacion\n",
        "                                          mejor evaluación (i, operacion, j , operacion2, k, operacion3 L, operacion4, m)\n",
        "\n"
      ]
    },
    {
      "metadata": {
        "id": "CJb5sQ0qkENy",
        "colab_type": "code",
        "colab": {}
      },
      "cell_type": "code",
      "source": [
        ""
      ],
      "execution_count": 0,
      "outputs": []
    },
    {
      "metadata": {
        "id": "tgrnsC2nkFa8",
        "colab_type": "text"
      },
      "cell_type": "markdown",
      "source": [
        "Calcula la complejidad del algoritmo por fuerza bruta"
      ]
    },
    {
      "metadata": {
        "id": "9eUd3xwckP68",
        "colab_type": "text"
      },
      "cell_type": "markdown",
      "source": [
        "Respuesta"
      ]
    },
    {
      "metadata": {
        "id": "VgJ8qe8eYCI1",
        "colab_type": "text"
      },
      "cell_type": "markdown",
      "source": [
        "como se comento en el apartado anterior la complejudad del problema resuelto en fuerza bruta es n^9"
      ]
    },
    {
      "metadata": {
        "id": "rvZWwL-ckRST",
        "colab_type": "code",
        "colab": {}
      },
      "cell_type": "code",
      "source": [
        ""
      ],
      "execution_count": 0,
      "outputs": []
    },
    {
      "metadata": {
        "id": "txbrmLmskReM",
        "colab_type": "text"
      },
      "cell_type": "markdown",
      "source": [
        "(*)Diseña un algoritmo que mejore la complejidad del algortimo por fuerza bruta. Argumenta porque crees que mejora el algoritmo por fuerza bruta"
      ]
    },
    {
      "metadata": {
        "id": "KKBx4G9-YL-B",
        "colab_type": "code",
        "outputId": "595205cb-4050-4ac7-b35d-2031ba383895",
        "colab": {
          "base_uri": "https://localhost:8080/",
          "height": 50
        }
      },
      "cell_type": "code",
      "source": [
        "import random\n",
        "import sys\n",
        "\n",
        "operaciones={\"+\",\"-\",\"*\",\"/\"}  # Lista de Operaciones\n",
        "numeros=set(range(1,10))    #lista de números\n",
        "\n",
        "def EncontrarSol():         #Funcion que encuentra una solucion al azar\n",
        "  \n",
        "  solucion=[]\n",
        "  \n",
        "  for i in range(9):\n",
        "    if i%2 ==0 :\n",
        "      solucion =solucion + [random.choice(list(numeros - set(solucion)))]\n",
        "      \n",
        "    else:\n",
        "     \n",
        "      solucion =solucion + [random.choice(list(operaciones - set(solucion)))]\n",
        "\n",
        "  #print (solucion)\n",
        "  return(tuple(solucion))\n",
        "\n",
        "def resultado(solucion):    #calcula el resultado de una solución \n",
        "  \n",
        "  SOL=list(solucion)\n",
        "  \n",
        "  inddiv=SOL.index(\"/\")\n",
        "  div=SOL[inddiv-1]/SOL[inddiv+1]\n",
        "  SOL.pop(inddiv)\n",
        "  SOL.pop(inddiv)\n",
        "  SOL[inddiv-1]=div\n",
        "  \n",
        "  \n",
        "  indmult=SOL.index(\"*\")\n",
        "  mult=SOL[indmult-1]*SOL[indmult+1]\n",
        "  SOL.pop(indmult)\n",
        "  SOL.pop(indmult)\n",
        "  SOL[indmult-1]=mult\n",
        "\n",
        " \n",
        "  indrest=SOL.index(\"-\")\n",
        "  rest=SOL[indrest-1]-SOL[indrest+1]\n",
        "  SOL.pop(indrest)\n",
        "  SOL.pop(indrest)\n",
        "  SOL[indrest-1]=rest\n",
        "  \n",
        "\n",
        "  indsum=SOL.index(\"+\")\n",
        "  suma=SOL[indsum-1]+SOL[indsum+1]\n",
        "  SOL.pop(indsum)\n",
        "  SOL.pop(indsum)\n",
        "  SOL[indsum-1]=suma\n",
        "\n",
        "\n",
        "    \n",
        "  solucionfinal=SOL[0]\n",
        "  \n",
        "  return solucionfinal\n",
        "  \n",
        "\n",
        "def Buscar_Vecina(solucion,Objetivo):           #busca soluciones vecinas, calcula las soluciones y devuelve la mejor vecina.\n",
        "  MejorVecina=[]\n",
        "  Mejor_resultado=sys.maxsize\n",
        "  \n",
        "  for i in (0,2,4,6,8):\n",
        "    numeros_libres=list(numeros - set(solucion))\n",
        "    for j in numeros_libres:\n",
        "\n",
        "      vecina=list(solucion)\n",
        "\n",
        "      vecina[i]=j\n",
        "\n",
        "      Resultado=resultado(tuple(vecina))\n",
        "\n",
        "      if abs(Resultado-Objetivo)<abs(Mejor_resultado-Objetivo):\n",
        "        MejorVecina=vecina\n",
        "        Mejor_resultado=Resultado\n",
        "        \n",
        "    for x in range(1,8,2):\n",
        "      for y in range(x+2,8,2):\n",
        "        sig2=solucion[y]\n",
        "        vecina=list(solucion)\n",
        "        vecina[y]=solucion[x]\n",
        "        vecina[x]=solucion[y]\n",
        "        Resultado=resultado(tuple(vecina))\n",
        "           \n",
        "        if abs(Resultado-Objetivo)<abs(Mejor_resultado-Objetivo):\n",
        "          MejorVecina=vecina\n",
        "          Mejor_resultado=Resultado         \n",
        "      \n",
        "\n",
        "  return MejorVecina\n",
        "      \n",
        "    \n",
        "def BuscarNumero(X,ciclos=50,comienzos=15):                    #da 15 soluciones al azar, y encuentra las vecinas de cada una durante 50 ciclos y quedandose con la mejor solución\n",
        "  Mejor_resultado=sys.maxsize\n",
        "  MejorSolucion=[]\n",
        "  for C in range(comienzos):\n",
        "    \n",
        "    solucion=EncontrarSol()\n",
        "\n",
        "\n",
        "    for i in range(ciclos):\n",
        "      solucion=Buscar_Vecina(solucion,X)\n",
        "      Resultado=resultado(solucion)\n",
        "\n",
        "      if abs(Resultado-X)<abs(Mejor_resultado-X):\n",
        "        MejorSolucion=solucion\n",
        "        Mejor_resultado=Resultado\n",
        " \n",
        "  print(Mejor_resultado)\n",
        "  print(MejorSolucion)\n",
        "  \n",
        "  \n",
        "\n",
        "BuscarNumero(1)"
      ],
      "execution_count": 3,
      "outputs": [
        {
          "output_type": "stream",
          "text": [
            "1.0\n",
            "[8, '-', 9, '+', 1, '*', 4, '/', 2]\n"
          ],
          "name": "stdout"
        }
      ]
    },
    {
      "metadata": {
        "id": "hLrVwt5QkZPD",
        "colab_type": "text"
      },
      "cell_type": "markdown",
      "source": [
        "Respuesta"
      ]
    },
    {
      "metadata": {
        "id": "wb1hVF6VYwag",
        "colab_type": "text"
      },
      "cell_type": "markdown",
      "source": [
        "Se ha usado un algoritmo heurístico , más exactamente el de los mejores vecinos\" \n",
        "Este método es mejor que la fuerza bruta ya que de está manera no es necesario recorrer todas las posibilidades para llegar a una solución valida"
      ]
    },
    {
      "metadata": {
        "id": "m1eyM21Vkabg",
        "colab_type": "code",
        "colab": {}
      },
      "cell_type": "code",
      "source": [
        ""
      ],
      "execution_count": 0,
      "outputs": []
    },
    {
      "metadata": {
        "id": "eGDB4K6uk1iN",
        "colab_type": "text"
      },
      "cell_type": "markdown",
      "source": [
        "(*)Calcula la complejidad del algoritmo "
      ]
    },
    {
      "metadata": {
        "id": "NhpTh_BPk1ms",
        "colab_type": "text"
      },
      "cell_type": "markdown",
      "source": [
        "Respuesta"
      ]
    },
    {
      "metadata": {
        "id": "2d2ZWjqpaBo3",
        "colab_type": "text"
      },
      "cell_type": "markdown",
      "source": [
        "la busqueda de una solucion aleatoria tiene una conplejidad de n\n",
        "\n",
        "el calculo de la solucion tiene una complejidad de  constante k\n",
        "\n",
        "la busqueda de los vecinos tiene una complejidad de n^2+n\n",
        "\n",
        "lo que hace que el algoritmo en global tenga una complejidad de n^4"
      ]
    },
    {
      "metadata": {
        "id": "nREzhkStlCq8",
        "colab_type": "code",
        "colab": {}
      },
      "cell_type": "code",
      "source": [
        ""
      ],
      "execution_count": 0,
      "outputs": []
    },
    {
      "metadata": {
        "id": "3M6QjTsSkmYe",
        "colab_type": "text"
      },
      "cell_type": "markdown",
      "source": [
        "Según el problema (y tenga sentido), diseña un juego de datos de entrada aleatorios"
      ]
    },
    {
      "metadata": {
        "id": "Jc3_OlyNkvjZ",
        "colab_type": "text"
      },
      "cell_type": "markdown",
      "source": [
        "Respuesta"
      ]
    },
    {
      "metadata": {
        "id": "sJ-N2etjkyWc",
        "colab_type": "code",
        "outputId": "394a0d41-1610-4919-cc7f-ecd482b95aff",
        "colab": {
          "base_uri": "https://localhost:8080/",
          "height": 118
        }
      },
      "cell_type": "code",
      "source": [
        "BuscarNumero(4)\n",
        "BuscarNumero(15)\n",
        "BuscarNumero(71)"
      ],
      "execution_count": 4,
      "outputs": [
        {
          "output_type": "stream",
          "text": [
            "4.0\n",
            "[2, '*', 3, '/', 6, '+', 4, '-', 1]\n",
            "15.0\n",
            "[3, '/', 1, '*', 6, '-', 5, '+', 2]\n",
            "71.0\n",
            "[4, '+', 8, '*', 9, '-', 5, '/', 1]\n"
          ],
          "name": "stdout"
        }
      ]
    },
    {
      "metadata": {
        "id": "zy5ZROmjlGo1",
        "colab_type": "text"
      },
      "cell_type": "markdown",
      "source": [
        "Aplica el algoritmo al juego de datos generado"
      ]
    },
    {
      "metadata": {
        "id": "_Cmj-PVylMsa",
        "colab_type": "text"
      },
      "cell_type": "markdown",
      "source": [
        "Respuesta"
      ]
    },
    {
      "metadata": {
        "id": "Jkx8GeiYlUz1",
        "colab_type": "code",
        "colab": {}
      },
      "cell_type": "code",
      "source": [
        ""
      ],
      "execution_count": 0,
      "outputs": []
    },
    {
      "metadata": {
        "colab_type": "text",
        "id": "eTFWUJQrtGcv"
      },
      "cell_type": "markdown",
      "source": [
        "Enumera las referencias que has utilizado(si ha sido necesario) para llevar a cabo el trabajo"
      ]
    },
    {
      "metadata": {
        "id": "YKQ_mRBttWsP",
        "colab_type": "text"
      },
      "cell_type": "markdown",
      "source": [
        "Respuesta"
      ]
    },
    {
      "metadata": {
        "id": "kAkDPUyRtYyH",
        "colab_type": "text"
      },
      "cell_type": "markdown",
      "source": [
        "Describe brevemente las lineas de como crees que es posible avanzar en el estudio del problema. Ten en cuenta incluso posibles variaciones del problema y/o variaciones al alza del tamaño"
      ]
    },
    {
      "metadata": {
        "id": "IE0uZmo-tZu-",
        "colab_type": "text"
      },
      "cell_type": "markdown",
      "source": [
        "Respuesta"
      ]
    }
  ]
}